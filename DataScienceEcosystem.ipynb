{
 "cells": [
  {
   "cell_type": "markdown",
   "id": "60f4762b-8f7a-4231-b495-7b4874db6ba9",
   "metadata": {},
   "source": [
    "<h1>Data Science Tools and Ecosystem</h1>\n"
   ]
  },
  {
   "cell_type": "markdown",
   "id": "7c2e5e9f-fe30-47f3-8aaa-441d59b54daa",
   "metadata": {},
   "source": [
    "## In this notebook, Data Science Tools and Ecosystem are summarized."
   ]
  },
  {
   "cell_type": "markdown",
   "id": "483f89fa-0bda-4ca7-bf16-ef880a9065ba",
   "metadata": {},
   "source": [
    "<b> ## Objectives:</b>\n",
    "\n",
    "- Listing Some of the popular languages that Data Scientists\n",
    "- Listing Some of the commonly used libraries used by Data Scientists\n",
    "- Listing Data Science Tools\n",
    "- Work on statement to evaluating arithmetic expressions in Python\n",
    "- "
   ]
  },
  {
   "cell_type": "markdown",
   "id": "c987b71e-2762-4006-a7b8-431530c1a686",
   "metadata": {},
   "source": [
    "### Some of the popular languages that Data Scientists use are:\n",
    "1. Python: Renowned for its simplicity and readability, Python is the go-to language for many Data Scientists\n",
    "2. R: This language excels in statistical analysis and data visualization.\n",
    "3. SQL: Essential for querying databases, SQL allows Data Scientists to retrieve and manipulate data stored in relational databases efficiently"
   ]
  },
  {
   "cell_type": "markdown",
   "id": "d9973049-c275-4992-83e7-9ce269296f7d",
   "metadata": {},
   "source": [
    "#### Some of the commonly used libraries used by Data Scientists include:\n",
    "1. Pandas: Essential for data manipulation and analysis.\n",
    "2. NumPy: Used for numerical computations and handling multi-dimensional arrays.\n",
    "3. Scikit-learn: A key library for machine learning algorithms and data mining.\n",
    "4. TensorFlow: Widely used for deep learning and neural networks.\n",
    "5. Keras: An easy-to-use API for building and training deep learning models."
   ]
  },
  {
   "cell_type": "markdown",
   "id": "fd47d77d-cbae-44fd-8448-758f96a64fd2",
   "metadata": {},
   "source": [
    "-----------------------------------------------------------------------------------------------------------------------------------------------------------\n",
    "Data Science Tools\n",
    "-----------------------------------------------------------------------------------------------------------------------------------------------------------\n",
    "1. Jupyter Notebook: An open-source web application for creating and sharing documents with live code, equations, visualizations, and narrative text.\n",
    "-----------------------------------------------------------------------------------------------------------------------------------------------------------\n",
    "2. RStudio: An integrated development environment (IDE) for R, providing a user-friendly interface for R programming.\n",
    "-----------------------------------------------------------------------------------------------------------------------------------------------------------\n",
    "3. Apache Spark: A unified analytics engine for large-scale data processing.\n",
    "-----------------------------------------------------------------------------------------------------------------------------------------------------------"
   ]
  },
  {
   "cell_type": "markdown",
   "id": "ac746c3c-b0f0-429b-be42-dd7e8a083716",
   "metadata": {},
   "source": [
    "\n",
    "\n"
   ]
  },
  {
   "cell_type": "markdown",
   "id": "7dc0f144-0418-4736-bd66-2a7282b2b3c3",
   "metadata": {},
   "source": [
    "<h3>Below are a few examples of evaluating arithmetic expressions in Python</h3>"
   ]
  },
  {
   "cell_type": "code",
   "execution_count": 1,
   "id": "add6a224-c455-4d56-bceb-1a759571b920",
   "metadata": {},
   "outputs": [
    {
     "data": {
      "text/plain": [
       "17"
      ]
     },
     "execution_count": 1,
     "metadata": {},
     "output_type": "execute_result"
    }
   ],
   "source": [
    "# This a simple arithmetic expression to mutiply then add integers\n",
    "\n",
    "(3*4)+5"
   ]
  },
  {
   "cell_type": "code",
   "execution_count": 3,
   "id": "874dce12-86cb-406f-a577-bfcc82383902",
   "metadata": {},
   "outputs": [
    {
     "name": "stdout",
     "output_type": "stream",
     "text": [
      "3.3333333333333335\n"
     ]
    }
   ],
   "source": [
    "#This will convert 200 minutes to hours by diving by 60\n",
    "# 60 minutes = 1 hour\n",
    "\n",
    "a_minutes = 200\n",
    "b_hour = a_minutes / 60\n",
    "print(b_hour)"
   ]
  },
  {
   "cell_type": "markdown",
   "id": "375de71d-2302-4a4b-bead-f34b75b40706",
   "metadata": {},
   "source": [
    "<h2>Author</h2>\n",
    "Waheed Ibrahim Abiola"
   ]
  }
 ],
 "metadata": {
  "kernelspec": {
   "display_name": "Python 3 (ipykernel)",
   "language": "python",
   "name": "python3"
  },
  "language_info": {
   "codemirror_mode": {
    "name": "ipython",
    "version": 3
   },
   "file_extension": ".py",
   "mimetype": "text/x-python",
   "name": "python",
   "nbconvert_exporter": "python",
   "pygments_lexer": "ipython3",
   "version": "3.11.9"
  }
 },
 "nbformat": 4,
 "nbformat_minor": 5
}
